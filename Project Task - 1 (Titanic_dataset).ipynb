{
 "cells": [
  {
   "cell_type": "markdown",
   "id": "eaa80c06",
   "metadata": {},
   "source": [
    "# Business Problem"
   ]
  },
  {
   "cell_type": "markdown",
   "id": "2a1e53f5",
   "metadata": {},
   "source": [
    "- Use the Titanic dataset to build a model that predicts whether a\n",
    "passenger on the Titanic survived or not. This is a classic beginner\n",
    "project with readily available data.\n",
    "- The dataset typically used for this project contains information\n",
    "about individual passengers, such as their age, gender, ticket\n",
    "class, fare, cabin, and whether or not they survived."
   ]
  },
  {
   "cell_type": "markdown",
   "id": "d74ddb7a",
   "metadata": {},
   "source": [
    "## Solution :-"
   ]
  },
  {
   "cell_type": "code",
   "execution_count": 1,
   "id": "9636e861",
   "metadata": {},
   "outputs": [],
   "source": [
    "import pandas as pd\n",
    "import seaborn as sns \n",
    "import matplotlib.pyplot as plt"
   ]
  },
  {
   "cell_type": "code",
   "execution_count": 4,
   "id": "39139689",
   "metadata": {},
   "outputs": [],
   "source": [
    "# Reading a file\n",
    "\n",
    "df = pd.read_csv('Task - 1 Titanic-Dataset.csv')"
   ]
  },
  {
   "cell_type": "markdown",
   "id": "5e042d6b",
   "metadata": {},
   "source": [
    "Problem Statement:                      \n",
    "Objective: Build a machine learning model to predict whether a passenger survived or not.\n",
    "\n",
    "Target Variable(survived):                                                \n",
    "\n",
    "0: Not survived,\n",
    "1: Survived.\n",
    "\n",
    "Dataset:\n",
    "\n",
    "A dataset containing various features related to passengers (e.g., age, gender, pclass,Sex,Fare,Embarked,etc..)."
   ]
  },
  {
   "cell_type": "code",
   "execution_count": 5,
   "id": "0d95e966",
   "metadata": {},
   "outputs": [
    {
     "data": {
      "text/html": [
       "<div>\n",
       "<style scoped>\n",
       "    .dataframe tbody tr th:only-of-type {\n",
       "        vertical-align: middle;\n",
       "    }\n",
       "\n",
       "    .dataframe tbody tr th {\n",
       "        vertical-align: top;\n",
       "    }\n",
       "\n",
       "    .dataframe thead th {\n",
       "        text-align: right;\n",
       "    }\n",
       "</style>\n",
       "<table border=\"1\" class=\"dataframe\">\n",
       "  <thead>\n",
       "    <tr style=\"text-align: right;\">\n",
       "      <th></th>\n",
       "      <th>PassengerId</th>\n",
       "      <th>Survived</th>\n",
       "      <th>Pclass</th>\n",
       "      <th>Name</th>\n",
       "      <th>Sex</th>\n",
       "      <th>Age</th>\n",
       "      <th>SibSp</th>\n",
       "      <th>Parch</th>\n",
       "      <th>Ticket</th>\n",
       "      <th>Fare</th>\n",
       "      <th>Cabin</th>\n",
       "      <th>Embarked</th>\n",
       "    </tr>\n",
       "  </thead>\n",
       "  <tbody>\n",
       "    <tr>\n",
       "      <th>0</th>\n",
       "      <td>1</td>\n",
       "      <td>0</td>\n",
       "      <td>3</td>\n",
       "      <td>Braund, Mr. Owen Harris</td>\n",
       "      <td>male</td>\n",
       "      <td>22.0</td>\n",
       "      <td>1</td>\n",
       "      <td>0</td>\n",
       "      <td>A/5 21171</td>\n",
       "      <td>7.2500</td>\n",
       "      <td>NaN</td>\n",
       "      <td>S</td>\n",
       "    </tr>\n",
       "    <tr>\n",
       "      <th>1</th>\n",
       "      <td>2</td>\n",
       "      <td>1</td>\n",
       "      <td>1</td>\n",
       "      <td>Cumings, Mrs. John Bradley (Florence Briggs Th...</td>\n",
       "      <td>female</td>\n",
       "      <td>38.0</td>\n",
       "      <td>1</td>\n",
       "      <td>0</td>\n",
       "      <td>PC 17599</td>\n",
       "      <td>71.2833</td>\n",
       "      <td>C85</td>\n",
       "      <td>C</td>\n",
       "    </tr>\n",
       "    <tr>\n",
       "      <th>2</th>\n",
       "      <td>3</td>\n",
       "      <td>1</td>\n",
       "      <td>3</td>\n",
       "      <td>Heikkinen, Miss. Laina</td>\n",
       "      <td>female</td>\n",
       "      <td>26.0</td>\n",
       "      <td>0</td>\n",
       "      <td>0</td>\n",
       "      <td>STON/O2. 3101282</td>\n",
       "      <td>7.9250</td>\n",
       "      <td>NaN</td>\n",
       "      <td>S</td>\n",
       "    </tr>\n",
       "    <tr>\n",
       "      <th>3</th>\n",
       "      <td>4</td>\n",
       "      <td>1</td>\n",
       "      <td>1</td>\n",
       "      <td>Futrelle, Mrs. Jacques Heath (Lily May Peel)</td>\n",
       "      <td>female</td>\n",
       "      <td>35.0</td>\n",
       "      <td>1</td>\n",
       "      <td>0</td>\n",
       "      <td>113803</td>\n",
       "      <td>53.1000</td>\n",
       "      <td>C123</td>\n",
       "      <td>S</td>\n",
       "    </tr>\n",
       "    <tr>\n",
       "      <th>4</th>\n",
       "      <td>5</td>\n",
       "      <td>0</td>\n",
       "      <td>3</td>\n",
       "      <td>Allen, Mr. William Henry</td>\n",
       "      <td>male</td>\n",
       "      <td>35.0</td>\n",
       "      <td>0</td>\n",
       "      <td>0</td>\n",
       "      <td>373450</td>\n",
       "      <td>8.0500</td>\n",
       "      <td>NaN</td>\n",
       "      <td>S</td>\n",
       "    </tr>\n",
       "  </tbody>\n",
       "</table>\n",
       "</div>"
      ],
      "text/plain": [
       "   PassengerId  Survived  Pclass  \\\n",
       "0            1         0       3   \n",
       "1            2         1       1   \n",
       "2            3         1       3   \n",
       "3            4         1       1   \n",
       "4            5         0       3   \n",
       "\n",
       "                                                Name     Sex   Age  SibSp  \\\n",
       "0                            Braund, Mr. Owen Harris    male  22.0      1   \n",
       "1  Cumings, Mrs. John Bradley (Florence Briggs Th...  female  38.0      1   \n",
       "2                             Heikkinen, Miss. Laina  female  26.0      0   \n",
       "3       Futrelle, Mrs. Jacques Heath (Lily May Peel)  female  35.0      1   \n",
       "4                           Allen, Mr. William Henry    male  35.0      0   \n",
       "\n",
       "   Parch            Ticket     Fare Cabin Embarked  \n",
       "0      0         A/5 21171   7.2500   NaN        S  \n",
       "1      0          PC 17599  71.2833   C85        C  \n",
       "2      0  STON/O2. 3101282   7.9250   NaN        S  \n",
       "3      0            113803  53.1000  C123        S  \n",
       "4      0            373450   8.0500   NaN        S  "
      ]
     },
     "execution_count": 5,
     "metadata": {},
     "output_type": "execute_result"
    }
   ],
   "source": [
    "df.head()"
   ]
  },
  {
   "cell_type": "code",
   "execution_count": 6,
   "id": "7c14034a",
   "metadata": {},
   "outputs": [
    {
     "data": {
      "text/plain": [
       "(891, 12)"
      ]
     },
     "execution_count": 6,
     "metadata": {},
     "output_type": "execute_result"
    }
   ],
   "source": [
    "# dimensions of dataset           \n",
    "\n",
    "df.shape\n",
    "\n",
    "# this dataset contains 891 rows and 12 columns"
   ]
  },
  {
   "cell_type": "code",
   "execution_count": 7,
   "id": "880e6f5c",
   "metadata": {},
   "outputs": [
    {
     "data": {
      "text/plain": [
       "PassengerId      int64\n",
       "Survived         int64\n",
       "Pclass           int64\n",
       "Name            object\n",
       "Sex             object\n",
       "Age            float64\n",
       "SibSp            int64\n",
       "Parch            int64\n",
       "Ticket          object\n",
       "Fare           float64\n",
       "Cabin           object\n",
       "Embarked        object\n",
       "dtype: object"
      ]
     },
     "execution_count": 7,
     "metadata": {},
     "output_type": "execute_result"
    }
   ],
   "source": [
    "# datatypes of columns\n",
    "\n",
    "df.dtypes"
   ]
  },
  {
   "cell_type": "code",
   "execution_count": 8,
   "id": "eab2d790",
   "metadata": {},
   "outputs": [],
   "source": [
    "df_cat = df.select_dtypes(include='object')\n",
    "df_num = df.select_dtypes(exclude='object')"
   ]
  },
  {
   "cell_type": "code",
   "execution_count": 9,
   "id": "55ddf3ef",
   "metadata": {},
   "outputs": [
    {
     "data": {
      "text/html": [
       "<div>\n",
       "<style scoped>\n",
       "    .dataframe tbody tr th:only-of-type {\n",
       "        vertical-align: middle;\n",
       "    }\n",
       "\n",
       "    .dataframe tbody tr th {\n",
       "        vertical-align: top;\n",
       "    }\n",
       "\n",
       "    .dataframe thead th {\n",
       "        text-align: right;\n",
       "    }\n",
       "</style>\n",
       "<table border=\"1\" class=\"dataframe\">\n",
       "  <thead>\n",
       "    <tr style=\"text-align: right;\">\n",
       "      <th></th>\n",
       "      <th>PassengerId</th>\n",
       "      <th>Survived</th>\n",
       "      <th>Pclass</th>\n",
       "      <th>Age</th>\n",
       "      <th>SibSp</th>\n",
       "      <th>Parch</th>\n",
       "      <th>Fare</th>\n",
       "    </tr>\n",
       "  </thead>\n",
       "  <tbody>\n",
       "    <tr>\n",
       "      <th>count</th>\n",
       "      <td>891.000000</td>\n",
       "      <td>891.000000</td>\n",
       "      <td>891.000000</td>\n",
       "      <td>714.000000</td>\n",
       "      <td>891.000000</td>\n",
       "      <td>891.000000</td>\n",
       "      <td>891.000000</td>\n",
       "    </tr>\n",
       "    <tr>\n",
       "      <th>mean</th>\n",
       "      <td>446.000000</td>\n",
       "      <td>0.383838</td>\n",
       "      <td>2.308642</td>\n",
       "      <td>29.699118</td>\n",
       "      <td>0.523008</td>\n",
       "      <td>0.381594</td>\n",
       "      <td>32.204208</td>\n",
       "    </tr>\n",
       "    <tr>\n",
       "      <th>std</th>\n",
       "      <td>257.353842</td>\n",
       "      <td>0.486592</td>\n",
       "      <td>0.836071</td>\n",
       "      <td>14.526497</td>\n",
       "      <td>1.102743</td>\n",
       "      <td>0.806057</td>\n",
       "      <td>49.693429</td>\n",
       "    </tr>\n",
       "    <tr>\n",
       "      <th>min</th>\n",
       "      <td>1.000000</td>\n",
       "      <td>0.000000</td>\n",
       "      <td>1.000000</td>\n",
       "      <td>0.420000</td>\n",
       "      <td>0.000000</td>\n",
       "      <td>0.000000</td>\n",
       "      <td>0.000000</td>\n",
       "    </tr>\n",
       "    <tr>\n",
       "      <th>25%</th>\n",
       "      <td>223.500000</td>\n",
       "      <td>0.000000</td>\n",
       "      <td>2.000000</td>\n",
       "      <td>20.125000</td>\n",
       "      <td>0.000000</td>\n",
       "      <td>0.000000</td>\n",
       "      <td>7.910400</td>\n",
       "    </tr>\n",
       "    <tr>\n",
       "      <th>50%</th>\n",
       "      <td>446.000000</td>\n",
       "      <td>0.000000</td>\n",
       "      <td>3.000000</td>\n",
       "      <td>28.000000</td>\n",
       "      <td>0.000000</td>\n",
       "      <td>0.000000</td>\n",
       "      <td>14.454200</td>\n",
       "    </tr>\n",
       "    <tr>\n",
       "      <th>75%</th>\n",
       "      <td>668.500000</td>\n",
       "      <td>1.000000</td>\n",
       "      <td>3.000000</td>\n",
       "      <td>38.000000</td>\n",
       "      <td>1.000000</td>\n",
       "      <td>0.000000</td>\n",
       "      <td>31.000000</td>\n",
       "    </tr>\n",
       "    <tr>\n",
       "      <th>max</th>\n",
       "      <td>891.000000</td>\n",
       "      <td>1.000000</td>\n",
       "      <td>3.000000</td>\n",
       "      <td>80.000000</td>\n",
       "      <td>8.000000</td>\n",
       "      <td>6.000000</td>\n",
       "      <td>512.329200</td>\n",
       "    </tr>\n",
       "  </tbody>\n",
       "</table>\n",
       "</div>"
      ],
      "text/plain": [
       "       PassengerId    Survived      Pclass         Age       SibSp  \\\n",
       "count   891.000000  891.000000  891.000000  714.000000  891.000000   \n",
       "mean    446.000000    0.383838    2.308642   29.699118    0.523008   \n",
       "std     257.353842    0.486592    0.836071   14.526497    1.102743   \n",
       "min       1.000000    0.000000    1.000000    0.420000    0.000000   \n",
       "25%     223.500000    0.000000    2.000000   20.125000    0.000000   \n",
       "50%     446.000000    0.000000    3.000000   28.000000    0.000000   \n",
       "75%     668.500000    1.000000    3.000000   38.000000    1.000000   \n",
       "max     891.000000    1.000000    3.000000   80.000000    8.000000   \n",
       "\n",
       "            Parch        Fare  \n",
       "count  891.000000  891.000000  \n",
       "mean     0.381594   32.204208  \n",
       "std      0.806057   49.693429  \n",
       "min      0.000000    0.000000  \n",
       "25%      0.000000    7.910400  \n",
       "50%      0.000000   14.454200  \n",
       "75%      0.000000   31.000000  \n",
       "max      6.000000  512.329200  "
      ]
     },
     "execution_count": 9,
     "metadata": {},
     "output_type": "execute_result"
    }
   ],
   "source": [
    "# 5 point summary for numerical columns\n",
    "\n",
    "df.describe()"
   ]
  },
  {
   "cell_type": "code",
   "execution_count": 10,
   "id": "9f05b4af",
   "metadata": {},
   "outputs": [
    {
     "data": {
      "text/html": [
       "<div>\n",
       "<style scoped>\n",
       "    .dataframe tbody tr th:only-of-type {\n",
       "        vertical-align: middle;\n",
       "    }\n",
       "\n",
       "    .dataframe tbody tr th {\n",
       "        vertical-align: top;\n",
       "    }\n",
       "\n",
       "    .dataframe thead th {\n",
       "        text-align: right;\n",
       "    }\n",
       "</style>\n",
       "<table border=\"1\" class=\"dataframe\">\n",
       "  <thead>\n",
       "    <tr style=\"text-align: right;\">\n",
       "      <th></th>\n",
       "      <th>Name</th>\n",
       "      <th>Sex</th>\n",
       "      <th>Ticket</th>\n",
       "      <th>Cabin</th>\n",
       "      <th>Embarked</th>\n",
       "    </tr>\n",
       "  </thead>\n",
       "  <tbody>\n",
       "    <tr>\n",
       "      <th>count</th>\n",
       "      <td>891</td>\n",
       "      <td>891</td>\n",
       "      <td>891</td>\n",
       "      <td>204</td>\n",
       "      <td>889</td>\n",
       "    </tr>\n",
       "    <tr>\n",
       "      <th>unique</th>\n",
       "      <td>891</td>\n",
       "      <td>2</td>\n",
       "      <td>681</td>\n",
       "      <td>147</td>\n",
       "      <td>3</td>\n",
       "    </tr>\n",
       "    <tr>\n",
       "      <th>top</th>\n",
       "      <td>Braund, Mr. Owen Harris</td>\n",
       "      <td>male</td>\n",
       "      <td>347082</td>\n",
       "      <td>B96 B98</td>\n",
       "      <td>S</td>\n",
       "    </tr>\n",
       "    <tr>\n",
       "      <th>freq</th>\n",
       "      <td>1</td>\n",
       "      <td>577</td>\n",
       "      <td>7</td>\n",
       "      <td>4</td>\n",
       "      <td>644</td>\n",
       "    </tr>\n",
       "  </tbody>\n",
       "</table>\n",
       "</div>"
      ],
      "text/plain": [
       "                           Name   Sex  Ticket    Cabin Embarked\n",
       "count                       891   891     891      204      889\n",
       "unique                      891     2     681      147        3\n",
       "top     Braund, Mr. Owen Harris  male  347082  B96 B98        S\n",
       "freq                          1   577       7        4      644"
      ]
     },
     "execution_count": 10,
     "metadata": {},
     "output_type": "execute_result"
    }
   ],
   "source": [
    "# summary count for categorical columns\n",
    "\n",
    "df_cat.describe()"
   ]
  },
  {
   "cell_type": "code",
   "execution_count": 11,
   "id": "b009caf0",
   "metadata": {},
   "outputs": [],
   "source": [
    "# there is need to drop categorical column name like ['Name','Ticket','Cabin']\n",
    "\n",
    "# Reason :- these 3 columns contains more than 70% values are unique so these type of columns \n",
    "#           generate a problems to build a machine learning model, ML model is unable to \n",
    "#           create a patterns because it contains so much unique values in the data..."
   ]
  },
  {
   "cell_type": "code",
   "execution_count": 12,
   "id": "0d2e6947",
   "metadata": {},
   "outputs": [],
   "source": [
    "# drop that 3 unnecessary column\n",
    "\n",
    "df.drop(['Name','Ticket','Cabin'],axis=1,inplace=True)"
   ]
  },
  {
   "cell_type": "code",
   "execution_count": 13,
   "id": "0b3d363c",
   "metadata": {},
   "outputs": [
    {
     "name": "stdout",
     "output_type": "stream",
     "text": [
      "Sex\n",
      "male      577\n",
      "female    314\n",
      "Name: count, dtype: int64\n",
      "------------------------\n",
      "Embarked\n",
      "S    644\n",
      "C    168\n",
      "Q     77\n",
      "Name: count, dtype: int64\n",
      "------------------------\n"
     ]
    }
   ],
   "source": [
    "for i in df.columns:\n",
    "    if df[i].dtype=='object':\n",
    "        print(df_cat[i].value_counts())\n",
    "        print('------------------------')"
   ]
  },
  {
   "cell_type": "code",
   "execution_count": 14,
   "id": "17e18392",
   "metadata": {},
   "outputs": [
    {
     "data": {
      "text/plain": [
       "PassengerId\n",
       "1      1\n",
       "599    1\n",
       "588    1\n",
       "589    1\n",
       "590    1\n",
       "      ..\n",
       "301    1\n",
       "302    1\n",
       "303    1\n",
       "304    1\n",
       "891    1\n",
       "Name: count, Length: 891, dtype: int64"
      ]
     },
     "execution_count": 14,
     "metadata": {},
     "output_type": "execute_result"
    }
   ],
   "source": [
    "df['PassengerId'].value_counts()  # it contains all unique values we have to drop this column also"
   ]
  },
  {
   "cell_type": "code",
   "execution_count": 15,
   "id": "ed7456ad",
   "metadata": {},
   "outputs": [],
   "source": [
    "# drop passengerid column\n",
    "\n",
    "df.drop('PassengerId',axis=1,inplace=True)"
   ]
  },
  {
   "cell_type": "code",
   "execution_count": 16,
   "id": "4e389bf9",
   "metadata": {},
   "outputs": [
    {
     "data": {
      "text/html": [
       "<div>\n",
       "<style scoped>\n",
       "    .dataframe tbody tr th:only-of-type {\n",
       "        vertical-align: middle;\n",
       "    }\n",
       "\n",
       "    .dataframe tbody tr th {\n",
       "        vertical-align: top;\n",
       "    }\n",
       "\n",
       "    .dataframe thead th {\n",
       "        text-align: right;\n",
       "    }\n",
       "</style>\n",
       "<table border=\"1\" class=\"dataframe\">\n",
       "  <thead>\n",
       "    <tr style=\"text-align: right;\">\n",
       "      <th></th>\n",
       "      <th>Survived</th>\n",
       "      <th>Pclass</th>\n",
       "      <th>Sex</th>\n",
       "      <th>Age</th>\n",
       "      <th>SibSp</th>\n",
       "      <th>Parch</th>\n",
       "      <th>Fare</th>\n",
       "      <th>Embarked</th>\n",
       "    </tr>\n",
       "  </thead>\n",
       "  <tbody>\n",
       "    <tr>\n",
       "      <th>0</th>\n",
       "      <td>0</td>\n",
       "      <td>3</td>\n",
       "      <td>male</td>\n",
       "      <td>22.0</td>\n",
       "      <td>1</td>\n",
       "      <td>0</td>\n",
       "      <td>7.2500</td>\n",
       "      <td>S</td>\n",
       "    </tr>\n",
       "    <tr>\n",
       "      <th>1</th>\n",
       "      <td>1</td>\n",
       "      <td>1</td>\n",
       "      <td>female</td>\n",
       "      <td>38.0</td>\n",
       "      <td>1</td>\n",
       "      <td>0</td>\n",
       "      <td>71.2833</td>\n",
       "      <td>C</td>\n",
       "    </tr>\n",
       "    <tr>\n",
       "      <th>2</th>\n",
       "      <td>1</td>\n",
       "      <td>3</td>\n",
       "      <td>female</td>\n",
       "      <td>26.0</td>\n",
       "      <td>0</td>\n",
       "      <td>0</td>\n",
       "      <td>7.9250</td>\n",
       "      <td>S</td>\n",
       "    </tr>\n",
       "    <tr>\n",
       "      <th>3</th>\n",
       "      <td>1</td>\n",
       "      <td>1</td>\n",
       "      <td>female</td>\n",
       "      <td>35.0</td>\n",
       "      <td>1</td>\n",
       "      <td>0</td>\n",
       "      <td>53.1000</td>\n",
       "      <td>S</td>\n",
       "    </tr>\n",
       "    <tr>\n",
       "      <th>4</th>\n",
       "      <td>0</td>\n",
       "      <td>3</td>\n",
       "      <td>male</td>\n",
       "      <td>35.0</td>\n",
       "      <td>0</td>\n",
       "      <td>0</td>\n",
       "      <td>8.0500</td>\n",
       "      <td>S</td>\n",
       "    </tr>\n",
       "  </tbody>\n",
       "</table>\n",
       "</div>"
      ],
      "text/plain": [
       "   Survived  Pclass     Sex   Age  SibSp  Parch     Fare Embarked\n",
       "0         0       3    male  22.0      1      0   7.2500        S\n",
       "1         1       1  female  38.0      1      0  71.2833        C\n",
       "2         1       3  female  26.0      0      0   7.9250        S\n",
       "3         1       1  female  35.0      1      0  53.1000        S\n",
       "4         0       3    male  35.0      0      0   8.0500        S"
      ]
     },
     "execution_count": 16,
     "metadata": {},
     "output_type": "execute_result"
    }
   ],
   "source": [
    "df.head()"
   ]
  },
  {
   "cell_type": "code",
   "execution_count": 17,
   "id": "0f503c04",
   "metadata": {},
   "outputs": [
    {
     "data": {
      "text/plain": [
       "<Axes: >"
      ]
     },
     "execution_count": 17,
     "metadata": {},
     "output_type": "execute_result"
    },
    {
     "data": {
      "image/png": "[encoded data removed]",
      "text/plain": [
       "<Figure size 640x480 with 2 Axes>"
      ]
     },
     "metadata": {},
     "output_type": "display_data"
    }
   ],
   "source": [
    "sns.heatmap(df_num.corr(),annot=True)"
   ]
  },
  {
   "cell_type": "markdown",
   "id": "77d274e0",
   "metadata": {},
   "source": [
    "## Null Values"
   ]
  },
  {
   "cell_type": "code",
   "execution_count": 18,
   "id": "55546a79",
   "metadata": {},
   "outputs": [
    {
     "data": {
      "text/plain": [
       "Survived     0.000000\n",
       "Pclass       0.000000\n",
       "Sex          0.000000\n",
       "Age         19.865320\n",
       "SibSp        0.000000\n",
       "Parch        0.000000\n",
       "Fare         0.000000\n",
       "Embarked     0.224467\n",
       "dtype: float64"
      ]
     },
     "execution_count": 18,
     "metadata": {},
     "output_type": "execute_result"
    }
   ],
   "source": [
    "# Null values\n",
    "\n",
    "df.isnull().sum()/df.shape[0]*100"
   ]
  },
  {
   "cell_type": "code",
   "execution_count": 19,
   "id": "46b2cef4",
   "metadata": {},
   "outputs": [],
   "source": [
    "# we have to impute null values, but before that we need to check it contains outliers or not"
   ]
  },
  {
   "cell_type": "markdown",
   "id": "7f0ca3b5",
   "metadata": {},
   "source": [
    "## Outliers"
   ]
  },
  {
   "cell_type": "code",
   "execution_count": 20,
   "id": "2aead803",
   "metadata": {},
   "outputs": [
    {
     "data": {
      "image/png": "[encoded data removed]",
      "text/plain": [
       "<Figure size 640x480 with 1 Axes>"
      ]
     },
     "metadata": {},
     "output_type": "display_data"
    },
    {
     "data": {
      "image/png": "[encoded data removed]",
      "text/plain": [
       "<Figure size 640x480 with 1 Axes>"
      ]
     },
     "metadata": {},
     "output_type": "display_data"
    },
    {
     "data": {
      "image/png": "[encoded data removed]",
      "text/plain": [
       "<Figure size 640x480 with 1 Axes>"
      ]
     },
     "metadata": {},
     "output_type": "display_data"
    },
    {
     "data": {
      "image/png": "[encoded data removed]",
      "text/plain": [
       "<Figure size 640x480 with 1 Axes>"
      ]
     },
     "metadata": {},
     "output_type": "display_data"
    },
    {
     "data": {
      "image/png": "[encoded data removed]",
      "text/plain": [
       "<Figure size 640x480 with 1 Axes>"
      ]
     },
     "metadata": {},
     "output_type": "display_data"
    },
    {
     "data": {
      "image/png": "[encoded data removed]",
      "text/plain": [
       "<Figure size 640x480 with 1 Axes>"
      ]
     },
     "metadata": {},
     "output_type": "display_data"
    }
   ],
   "source": [
    "for i in df.columns:\n",
    "    if df[i].dtype!='object':\n",
    "        sns.boxplot(df[i])\n",
    "        plt.show()"
   ]
  },
  {
   "cell_type": "code",
   "execution_count": 21,
   "id": "9035cfbe",
   "metadata": {},
   "outputs": [],
   "source": [
    "# Age column contains outliers so we impute the null values of age column by median\n",
    "# embarked is categorical column so we impute the null values of embarked column by mode"
   ]
  },
  {
   "cell_type": "markdown",
   "id": "c454aeed",
   "metadata": {},
   "source": [
    "## Imputing Null values"
   ]
  },
  {
   "cell_type": "code",
   "execution_count": 22,
   "id": "167c1212",
   "metadata": {},
   "outputs": [],
   "source": [
    "df['Age'] = df['Age'].fillna(df['Age'].median())\n"
   ]
  },
  {
   "cell_type": "code",
   "execution_count": 23,
   "id": "6b473dd7",
   "metadata": {},
   "outputs": [
    {
     "data": {
      "text/plain": [
       "0    S\n",
       "Name: Embarked, dtype: object"
      ]
     },
     "execution_count": 23,
     "metadata": {},
     "output_type": "execute_result"
    }
   ],
   "source": [
    "mode = df['Embarked'].mode()\n",
    "\n",
    "mode"
   ]
  },
  {
   "cell_type": "code",
   "execution_count": 24,
   "id": "9294e890",
   "metadata": {},
   "outputs": [],
   "source": [
    "df['Embarked'] = df['Embarked'].fillna('S')"
   ]
  },
  {
   "cell_type": "code",
   "execution_count": 25,
   "id": "9a97a466",
   "metadata": {},
   "outputs": [
    {
     "data": {
      "text/plain": [
       "Survived    0\n",
       "Pclass      0\n",
       "Sex         0\n",
       "Age         0\n",
       "SibSp       0\n",
       "Parch       0\n",
       "Fare        0\n",
       "Embarked    0\n",
       "dtype: int64"
      ]
     },
     "execution_count": 25,
     "metadata": {},
     "output_type": "execute_result"
    }
   ],
   "source": [
    "df.isnull().sum()"
   ]
  },
  {
   "cell_type": "markdown",
   "id": "fdd82d18",
   "metadata": {},
   "source": [
    "## visualization"
   ]
  },
  {
   "cell_type": "code",
   "execution_count": 26,
   "id": "13516dee",
   "metadata": {},
   "outputs": [
    {
     "name": "stderr",
     "output_type": "stream",
     "text": [
      "C:\\Users\\vb905\\anaconda3\\Lib\\site-packages\\seaborn\\axisgrid.py:118: UserWarning: The figure layout has changed to tight\n",
      "  self._figure.tight_layout(*args, **kwargs)\n"
     ]
    },
    {
     "data": {
      "text/plain": [
       "<seaborn.axisgrid.PairGrid at 0x219205d5290>"
      ]
     },
     "execution_count": 26,
     "metadata": {},
     "output_type": "execute_result"
    },
    {
     "data": {
      "image/png": "[encoded data removed]",
      "text/plain": [
       "<Figure size 1500x1500 with 42 Axes>"
      ]
     },
     "metadata": {},
     "output_type": "display_data"
    }
   ],
   "source": [
    "sns.pairplot(data=df)"
   ]
  },
  {
   "cell_type": "code",
   "execution_count": 27,
   "id": "d995fc35",
   "metadata": {},
   "outputs": [
    {
     "data": {
      "text/plain": [
       "Survived      int64\n",
       "Pclass        int64\n",
       "Sex          object\n",
       "Age         float64\n",
       "SibSp         int64\n",
       "Parch         int64\n",
       "Fare        float64\n",
       "Embarked     object\n",
       "dtype: object"
      ]
     },
     "execution_count": 27,
     "metadata": {},
     "output_type": "execute_result"
    }
   ],
   "source": [
    "df.dtypes"
   ]
  },
  {
   "cell_type": "code",
   "execution_count": 28,
   "id": "0103b264",
   "metadata": {},
   "outputs": [
    {
     "data": {
      "text/plain": [
       "<Axes: xlabel='Survived'>"
      ]
     },
     "execution_count": 28,
     "metadata": {},
     "output_type": "execute_result"
    },
    {
     "data": {
      "image/png": "[encoded data removed]",
      "text/plain": [
       "<Figure size 640x480 with 1 Axes>"
      ]
     },
     "metadata": {},
     "output_type": "display_data"
    }
   ],
   "source": [
    "df.groupby('Survived')['Age'].mean().plot(kind='bar')"
   ]
  },
  {
   "cell_type": "code",
   "execution_count": 29,
   "id": "ac784032",
   "metadata": {},
   "outputs": [
    {
     "data": {
      "text/plain": [
       "<Axes: xlabel='Embarked'>"
      ]
     },
     "execution_count": 29,
     "metadata": {},
     "output_type": "execute_result"
    },
    {
     "data": {
      "image/png": "[encoded data removed]",
      "text/plain": [
       "<Figure size 640x480 with 1 Axes>"
      ]
     },
     "metadata": {},
     "output_type": "display_data"
    }
   ],
   "source": [
    "df.groupby('Embarked')['Fare'].mean().plot(kind='bar')"
   ]
  },
  {
   "cell_type": "code",
   "execution_count": 30,
   "id": "57b9b50a",
   "metadata": {},
   "outputs": [],
   "source": [
    "# inference:-\n",
    "\n",
    "# peoples are survived and not survived their age are near about same.\n",
    "# people are coming from c Embarked are paid more fare fess than Q and S"
   ]
  },
  {
   "cell_type": "markdown",
   "id": "e4ae5699",
   "metadata": {},
   "source": [
    "## Outlier Treatment "
   ]
  },
  {
   "cell_type": "code",
   "execution_count": 31,
   "id": "7b6c97b2",
   "metadata": {},
   "outputs": [
    {
     "data": {
      "text/plain": [
       "Survived      int64\n",
       "Pclass        int64\n",
       "Sex          object\n",
       "Age         float64\n",
       "SibSp         int64\n",
       "Parch         int64\n",
       "Fare        float64\n",
       "Embarked     object\n",
       "dtype: object"
      ]
     },
     "execution_count": 31,
     "metadata": {},
     "output_type": "execute_result"
    }
   ],
   "source": [
    "df.dtypes"
   ]
  },
  {
   "cell_type": "code",
   "execution_count": 32,
   "id": "2b010b9a",
   "metadata": {},
   "outputs": [],
   "source": [
    "df_num = df.select_dtypes(exclude='object')"
   ]
  },
  {
   "cell_type": "code",
   "execution_count": 33,
   "id": "804ab8be",
   "metadata": {},
   "outputs": [],
   "source": [
    "q1 = df_num.quantile(0.25)\n",
    "\n",
    "q3 = df_num.quantile(0.75)\n",
    "\n",
    "iqr = q3 - q1 \n",
    "\n",
    "ll = q1 - (1.5*iqr)\n",
    "\n",
    "ul = q3 + (1.5*iqr)\n",
    "\n",
    "df = df[~((df_num < ll)|(df_num > ul)).any(axis=1)]"
   ]
  },
  {
   "cell_type": "code",
   "execution_count": 34,
   "id": "95bc7858",
   "metadata": {},
   "outputs": [
    {
     "data": {
      "text/html": [
       "<div>\n",
       "<style scoped>\n",
       "    .dataframe tbody tr th:only-of-type {\n",
       "        vertical-align: middle;\n",
       "    }\n",
       "\n",
       "    .dataframe tbody tr th {\n",
       "        vertical-align: top;\n",
       "    }\n",
       "\n",
       "    .dataframe thead th {\n",
       "        text-align: right;\n",
       "    }\n",
       "</style>\n",
       "<table border=\"1\" class=\"dataframe\">\n",
       "  <thead>\n",
       "    <tr style=\"text-align: right;\">\n",
       "      <th></th>\n",
       "      <th>Survived</th>\n",
       "      <th>Pclass</th>\n",
       "      <th>Sex</th>\n",
       "      <th>Age</th>\n",
       "      <th>SibSp</th>\n",
       "      <th>Parch</th>\n",
       "      <th>Fare</th>\n",
       "      <th>Embarked</th>\n",
       "    </tr>\n",
       "  </thead>\n",
       "  <tbody>\n",
       "    <tr>\n",
       "      <th>0</th>\n",
       "      <td>0</td>\n",
       "      <td>3</td>\n",
       "      <td>male</td>\n",
       "      <td>22.0</td>\n",
       "      <td>1</td>\n",
       "      <td>0</td>\n",
       "      <td>7.2500</td>\n",
       "      <td>S</td>\n",
       "    </tr>\n",
       "    <tr>\n",
       "      <th>2</th>\n",
       "      <td>1</td>\n",
       "      <td>3</td>\n",
       "      <td>female</td>\n",
       "      <td>26.0</td>\n",
       "      <td>0</td>\n",
       "      <td>0</td>\n",
       "      <td>7.9250</td>\n",
       "      <td>S</td>\n",
       "    </tr>\n",
       "    <tr>\n",
       "      <th>3</th>\n",
       "      <td>1</td>\n",
       "      <td>1</td>\n",
       "      <td>female</td>\n",
       "      <td>35.0</td>\n",
       "      <td>1</td>\n",
       "      <td>0</td>\n",
       "      <td>53.1000</td>\n",
       "      <td>S</td>\n",
       "    </tr>\n",
       "    <tr>\n",
       "      <th>4</th>\n",
       "      <td>0</td>\n",
       "      <td>3</td>\n",
       "      <td>male</td>\n",
       "      <td>35.0</td>\n",
       "      <td>0</td>\n",
       "      <td>0</td>\n",
       "      <td>8.0500</td>\n",
       "      <td>S</td>\n",
       "    </tr>\n",
       "    <tr>\n",
       "      <th>5</th>\n",
       "      <td>0</td>\n",
       "      <td>3</td>\n",
       "      <td>male</td>\n",
       "      <td>28.0</td>\n",
       "      <td>0</td>\n",
       "      <td>0</td>\n",
       "      <td>8.4583</td>\n",
       "      <td>Q</td>\n",
       "    </tr>\n",
       "  </tbody>\n",
       "</table>\n",
       "</div>"
      ],
      "text/plain": [
       "   Survived  Pclass     Sex   Age  SibSp  Parch     Fare Embarked\n",
       "0         0       3    male  22.0      1      0   7.2500        S\n",
       "2         1       3  female  26.0      0      0   7.9250        S\n",
       "3         1       1  female  35.0      1      0  53.1000        S\n",
       "4         0       3    male  35.0      0      0   8.0500        S\n",
       "5         0       3    male  28.0      0      0   8.4583        Q"
      ]
     },
     "execution_count": 34,
     "metadata": {},
     "output_type": "execute_result"
    }
   ],
   "source": [
    "df.head()"
   ]
  },
  {
   "cell_type": "code",
   "execution_count": 35,
   "id": "764bd52e",
   "metadata": {},
   "outputs": [],
   "source": [
    "# we need to scale the data for numerical features"
   ]
  },
  {
   "cell_type": "markdown",
   "id": "c4b6788c",
   "metadata": {},
   "source": [
    "## Scaling"
   ]
  },
  {
   "cell_type": "code",
   "execution_count": 36,
   "id": "6f1f9a66",
   "metadata": {},
   "outputs": [
    {
     "data": {
      "text/plain": [
       "Index(['Survived', 'Pclass', 'Sex', 'Age', 'SibSp', 'Parch', 'Fare',\n",
       "       'Embarked'],\n",
       "      dtype='object')"
      ]
     },
     "execution_count": 36,
     "metadata": {},
     "output_type": "execute_result"
    }
   ],
   "source": [
    "df.columns"
   ]
  },
  {
   "cell_type": "code",
   "execution_count": 37,
   "id": "85cf5ca4",
   "metadata": {},
   "outputs": [],
   "source": [
    "from sklearn.preprocessing import StandardScaler\n",
    "\n",
    "std = StandardScaler()"
   ]
  },
  {
   "cell_type": "code",
   "execution_count": 38,
   "id": "5ea54280",
   "metadata": {},
   "outputs": [],
   "source": [
    "import warnings \n",
    "\n",
    "warnings.filterwarnings('ignore')"
   ]
  },
  {
   "cell_type": "code",
   "execution_count": 39,
   "id": "395c3f89",
   "metadata": {},
   "outputs": [],
   "source": [
    "df_scale = df[['Pclass', 'Age', 'SibSp', 'Parch', 'Fare']]"
   ]
  },
  {
   "cell_type": "code",
   "execution_count": 40,
   "id": "9f70511b",
   "metadata": {},
   "outputs": [],
   "source": [
    "for i in df_scale.columns:\n",
    "        df[i] = std.fit_transform(df[[i]])\n",
    "        "
   ]
  },
  {
   "cell_type": "code",
   "execution_count": 41,
   "id": "6ad6415b",
   "metadata": {},
   "outputs": [
    {
     "data": {
      "text/html": [
       "<div>\n",
       "<style scoped>\n",
       "    .dataframe tbody tr th:only-of-type {\n",
       "        vertical-align: middle;\n",
       "    }\n",
       "\n",
       "    .dataframe tbody tr th {\n",
       "        vertical-align: top;\n",
       "    }\n",
       "\n",
       "    .dataframe thead th {\n",
       "        text-align: right;\n",
       "    }\n",
       "</style>\n",
       "<table border=\"1\" class=\"dataframe\">\n",
       "  <thead>\n",
       "    <tr style=\"text-align: right;\">\n",
       "      <th></th>\n",
       "      <th>Survived</th>\n",
       "      <th>Pclass</th>\n",
       "      <th>Sex</th>\n",
       "      <th>Age</th>\n",
       "      <th>SibSp</th>\n",
       "      <th>Parch</th>\n",
       "      <th>Fare</th>\n",
       "      <th>Embarked</th>\n",
       "    </tr>\n",
       "  </thead>\n",
       "  <tbody>\n",
       "    <tr>\n",
       "      <th>0</th>\n",
       "      <td>0</td>\n",
       "      <td>0.67833</td>\n",
       "      <td>male</td>\n",
       "      <td>-0.854761</td>\n",
       "      <td>1.800735</td>\n",
       "      <td>0.0</td>\n",
       "      <td>-0.609448</td>\n",
       "      <td>S</td>\n",
       "    </tr>\n",
       "    <tr>\n",
       "      <th>2</th>\n",
       "      <td>1</td>\n",
       "      <td>0.67833</td>\n",
       "      <td>female</td>\n",
       "      <td>-0.386610</td>\n",
       "      <td>-0.448235</td>\n",
       "      <td>0.0</td>\n",
       "      <td>-0.555858</td>\n",
       "      <td>S</td>\n",
       "    </tr>\n",
       "    <tr>\n",
       "      <th>3</th>\n",
       "      <td>1</td>\n",
       "      <td>-2.04917</td>\n",
       "      <td>female</td>\n",
       "      <td>0.666730</td>\n",
       "      <td>1.800735</td>\n",
       "      <td>0.0</td>\n",
       "      <td>3.030715</td>\n",
       "      <td>S</td>\n",
       "    </tr>\n",
       "    <tr>\n",
       "      <th>4</th>\n",
       "      <td>0</td>\n",
       "      <td>0.67833</td>\n",
       "      <td>male</td>\n",
       "      <td>0.666730</td>\n",
       "      <td>-0.448235</td>\n",
       "      <td>0.0</td>\n",
       "      <td>-0.545934</td>\n",
       "      <td>S</td>\n",
       "    </tr>\n",
       "    <tr>\n",
       "      <th>5</th>\n",
       "      <td>0</td>\n",
       "      <td>0.67833</td>\n",
       "      <td>male</td>\n",
       "      <td>-0.152535</td>\n",
       "      <td>-0.448235</td>\n",
       "      <td>0.0</td>\n",
       "      <td>-0.513517</td>\n",
       "      <td>Q</td>\n",
       "    </tr>\n",
       "  </tbody>\n",
       "</table>\n",
       "</div>"
      ],
      "text/plain": [
       "   Survived   Pclass     Sex       Age     SibSp  Parch      Fare Embarked\n",
       "0         0  0.67833    male -0.854761  1.800735    0.0 -0.609448        S\n",
       "2         1  0.67833  female -0.386610 -0.448235    0.0 -0.555858        S\n",
       "3         1 -2.04917  female  0.666730  1.800735    0.0  3.030715        S\n",
       "4         0  0.67833    male  0.666730 -0.448235    0.0 -0.545934        S\n",
       "5         0  0.67833    male -0.152535 -0.448235    0.0 -0.513517        Q"
      ]
     },
     "execution_count": 41,
     "metadata": {},
     "output_type": "execute_result"
    }
   ],
   "source": [
    "df.head()"
   ]
  },
  {
   "cell_type": "markdown",
   "id": "bb89407d",
   "metadata": {},
   "source": [
    "## Encoding"
   ]
  },
  {
   "cell_type": "code",
   "execution_count": 42,
   "id": "edf33125",
   "metadata": {},
   "outputs": [],
   "source": [
    "# we need to encode the categorical variable \n",
    "\n",
    "# Reason :- ML model does not take categorical values for prediction so we need to convert into numerical form"
   ]
  },
  {
   "cell_type": "code",
   "execution_count": 43,
   "id": "40c268ad",
   "metadata": {},
   "outputs": [],
   "source": [
    "df = pd.get_dummies(data=df,columns=['Sex','Embarked'],dtype='int')"
   ]
  },
  {
   "cell_type": "code",
   "execution_count": 44,
   "id": "f5be7f74",
   "metadata": {},
   "outputs": [
    {
     "data": {
      "text/html": [
       "<div>\n",
       "<style scoped>\n",
       "    .dataframe tbody tr th:only-of-type {\n",
       "        vertical-align: middle;\n",
       "    }\n",
       "\n",
       "    .dataframe tbody tr th {\n",
       "        vertical-align: top;\n",
       "    }\n",
       "\n",
       "    .dataframe thead th {\n",
       "        text-align: right;\n",
       "    }\n",
       "</style>\n",
       "<table border=\"1\" class=\"dataframe\">\n",
       "  <thead>\n",
       "    <tr style=\"text-align: right;\">\n",
       "      <th></th>\n",
       "      <th>Survived</th>\n",
       "      <th>Pclass</th>\n",
       "      <th>Age</th>\n",
       "      <th>SibSp</th>\n",
       "      <th>Parch</th>\n",
       "      <th>Fare</th>\n",
       "      <th>Sex_female</th>\n",
       "      <th>Sex_male</th>\n",
       "      <th>Embarked_C</th>\n",
       "      <th>Embarked_Q</th>\n",
       "      <th>Embarked_S</th>\n",
       "    </tr>\n",
       "  </thead>\n",
       "  <tbody>\n",
       "    <tr>\n",
       "      <th>0</th>\n",
       "      <td>0</td>\n",
       "      <td>0.67833</td>\n",
       "      <td>-0.854761</td>\n",
       "      <td>1.800735</td>\n",
       "      <td>0.0</td>\n",
       "      <td>-0.609448</td>\n",
       "      <td>0</td>\n",
       "      <td>1</td>\n",
       "      <td>0</td>\n",
       "      <td>0</td>\n",
       "      <td>1</td>\n",
       "    </tr>\n",
       "    <tr>\n",
       "      <th>2</th>\n",
       "      <td>1</td>\n",
       "      <td>0.67833</td>\n",
       "      <td>-0.386610</td>\n",
       "      <td>-0.448235</td>\n",
       "      <td>0.0</td>\n",
       "      <td>-0.555858</td>\n",
       "      <td>1</td>\n",
       "      <td>0</td>\n",
       "      <td>0</td>\n",
       "      <td>0</td>\n",
       "      <td>1</td>\n",
       "    </tr>\n",
       "    <tr>\n",
       "      <th>3</th>\n",
       "      <td>1</td>\n",
       "      <td>-2.04917</td>\n",
       "      <td>0.666730</td>\n",
       "      <td>1.800735</td>\n",
       "      <td>0.0</td>\n",
       "      <td>3.030715</td>\n",
       "      <td>1</td>\n",
       "      <td>0</td>\n",
       "      <td>0</td>\n",
       "      <td>0</td>\n",
       "      <td>1</td>\n",
       "    </tr>\n",
       "    <tr>\n",
       "      <th>4</th>\n",
       "      <td>0</td>\n",
       "      <td>0.67833</td>\n",
       "      <td>0.666730</td>\n",
       "      <td>-0.448235</td>\n",
       "      <td>0.0</td>\n",
       "      <td>-0.545934</td>\n",
       "      <td>0</td>\n",
       "      <td>1</td>\n",
       "      <td>0</td>\n",
       "      <td>0</td>\n",
       "      <td>1</td>\n",
       "    </tr>\n",
       "    <tr>\n",
       "      <th>5</th>\n",
       "      <td>0</td>\n",
       "      <td>0.67833</td>\n",
       "      <td>-0.152535</td>\n",
       "      <td>-0.448235</td>\n",
       "      <td>0.0</td>\n",
       "      <td>-0.513517</td>\n",
       "      <td>0</td>\n",
       "      <td>1</td>\n",
       "      <td>0</td>\n",
       "      <td>1</td>\n",
       "      <td>0</td>\n",
       "    </tr>\n",
       "  </tbody>\n",
       "</table>\n",
       "</div>"
      ],
      "text/plain": [
       "   Survived   Pclass       Age     SibSp  Parch      Fare  Sex_female  \\\n",
       "0         0  0.67833 -0.854761  1.800735    0.0 -0.609448           0   \n",
       "2         1  0.67833 -0.386610 -0.448235    0.0 -0.555858           1   \n",
       "3         1 -2.04917  0.666730  1.800735    0.0  3.030715           1   \n",
       "4         0  0.67833  0.666730 -0.448235    0.0 -0.545934           0   \n",
       "5         0  0.67833 -0.152535 -0.448235    0.0 -0.513517           0   \n",
       "\n",
       "   Sex_male  Embarked_C  Embarked_Q  Embarked_S  \n",
       "0         1           0           0           1  \n",
       "2         0           0           0           1  \n",
       "3         0           0           0           1  \n",
       "4         1           0           0           1  \n",
       "5         1           0           1           0  "
      ]
     },
     "execution_count": 44,
     "metadata": {},
     "output_type": "execute_result"
    }
   ],
   "source": [
    "df.head()"
   ]
  },
  {
   "cell_type": "markdown",
   "id": "825c03ff",
   "metadata": {},
   "source": [
    "## distribution of T.V."
   ]
  },
  {
   "cell_type": "code",
   "execution_count": 45,
   "id": "cacd40f1",
   "metadata": {},
   "outputs": [
    {
     "data": {
      "text/plain": [
       "Survived\n",
       "0    70.017331\n",
       "1    29.982669\n",
       "Name: count, dtype: float64"
      ]
     },
     "execution_count": 45,
     "metadata": {},
     "output_type": "execute_result"
    }
   ],
   "source": [
    "# no need of smote analysis here\n",
    "\n",
    "df['Survived'].value_counts()/df.shape[0]*100"
   ]
  },
  {
   "cell_type": "markdown",
   "id": "f5443ea7",
   "metadata": {},
   "source": [
    "## train_test_split"
   ]
  },
  {
   "cell_type": "code",
   "execution_count": 46,
   "id": "ec3cf2ba",
   "metadata": {},
   "outputs": [],
   "source": [
    "from sklearn.model_selection import train_test_split\n",
    "\n",
    "# split the data \n",
    "\n",
    "x = df.drop('Survived',axis=1)   # independent variables\n",
    "y = df['Survived']               # dependent variable (Target)\n",
    "\n",
    "# we split the data into 70:30 portion...\n",
    "\n",
    "xtrain,xtest,ytrain,ytest = train_test_split(x,y,train_size=0.70,random_state=10)"
   ]
  },
  {
   "cell_type": "markdown",
   "id": "4a954442",
   "metadata": {},
   "source": [
    "## Model Building"
   ]
  },
  {
   "cell_type": "code",
   "execution_count": 47,
   "id": "88c6044c",
   "metadata": {},
   "outputs": [
    {
     "name": "stdout",
     "output_type": "stream",
     "text": [
      "              precision    recall  f1-score   support\n",
      "\n",
      "           0       0.85      0.88      0.86       281\n",
      "           1       0.70      0.66      0.68       122\n",
      "\n",
      "    accuracy                           0.81       403\n",
      "   macro avg       0.77      0.77      0.77       403\n",
      "weighted avg       0.81      0.81      0.81       403\n",
      "\n",
      "              precision    recall  f1-score   support\n",
      "\n",
      "           0       0.82      0.89      0.85       123\n",
      "           1       0.66      0.53      0.59        51\n",
      "\n",
      "    accuracy                           0.78       174\n",
      "   macro avg       0.74      0.71      0.72       174\n",
      "weighted avg       0.77      0.78      0.77       174\n",
      "\n"
     ]
    }
   ],
   "source": [
    "# LogisticRegression\n",
    "\n",
    "from sklearn.linear_model import LogisticRegression\n",
    "\n",
    "LR = LogisticRegression()\n",
    "LR_model = LR.fit(xtrain,ytrain)\n",
    "train_pred_1 = LR_model.predict(xtrain)\n",
    "test_pred_1 = LR_model.predict(xtest)\n",
    "         \n",
    "from sklearn.metrics import classification_report\n",
    "\n",
    "print(classification_report(ytrain,train_pred_1))\n",
    "print(classification_report(ytest,test_pred_1))\n"
   ]
  },
  {
   "cell_type": "code",
   "execution_count": 48,
   "id": "4c2dd14a",
   "metadata": {},
   "outputs": [
    {
     "name": "stdout",
     "output_type": "stream",
     "text": [
      "              precision    recall  f1-score   support\n",
      "\n",
      "           0       0.97      1.00      0.98       281\n",
      "           1       0.99      0.92      0.95       122\n",
      "\n",
      "    accuracy                           0.97       403\n",
      "   macro avg       0.98      0.96      0.97       403\n",
      "weighted avg       0.97      0.97      0.97       403\n",
      "\n",
      "              precision    recall  f1-score   support\n",
      "\n",
      "           0       0.84      0.80      0.82       123\n",
      "           1       0.56      0.63      0.59        51\n",
      "\n",
      "    accuracy                           0.75       174\n",
      "   macro avg       0.70      0.71      0.70       174\n",
      "weighted avg       0.76      0.75      0.75       174\n",
      "\n"
     ]
    }
   ],
   "source": [
    "from sklearn.tree import DecisionTreeClassifier\n",
    "\n",
    "DT = DecisionTreeClassifier()\n",
    "DT_model = DT.fit(xtrain,ytrain)\n",
    "train_pred_2 = DT_model.predict(xtrain)\n",
    "test_pred_2 = DT_model.predict(xtest)\n",
    "\n",
    "print(classification_report(ytrain,train_pred_2))\n",
    "print(classification_report(ytest,test_pred_2))\n"
   ]
  },
  {
   "cell_type": "code",
   "execution_count": 49,
   "id": "4b554f03",
   "metadata": {},
   "outputs": [
    {
     "name": "stdout",
     "output_type": "stream",
     "text": [
      "              precision    recall  f1-score   support\n",
      "\n",
      "           0       0.98      0.99      0.98       281\n",
      "           1       0.97      0.94      0.95       122\n",
      "\n",
      "    accuracy                           0.97       403\n",
      "   macro avg       0.97      0.96      0.97       403\n",
      "weighted avg       0.97      0.97      0.97       403\n",
      "\n",
      "              precision    recall  f1-score   support\n",
      "\n",
      "           0       0.85      0.86      0.86       123\n",
      "           1       0.66      0.65      0.65        51\n",
      "\n",
      "    accuracy                           0.80       174\n",
      "   macro avg       0.76      0.75      0.76       174\n",
      "weighted avg       0.80      0.80      0.80       174\n",
      "\n"
     ]
    }
   ],
   "source": [
    "from sklearn.ensemble import RandomForestClassifier\n",
    "\n",
    "RD = RandomForestClassifier()\n",
    "RD_model = RD.fit(xtrain,ytrain)\n",
    "train_pred_3 = RD_model.predict(xtrain)\n",
    "test_pred_3 = RD_model.predict(xtest)\n",
    "\n",
    "print(classification_report(ytrain,train_pred_3))\n",
    "print(classification_report(ytest,test_pred_3))\n"
   ]
  },
  {
   "cell_type": "markdown",
   "id": "50926eae",
   "metadata": {},
   "source": [
    "## GSCV"
   ]
  },
  {
   "cell_type": "code",
   "execution_count": 50,
   "id": "f5d7c05f",
   "metadata": {},
   "outputs": [
    {
     "name": "stdout",
     "output_type": "stream",
     "text": [
      "best_parametrs: {'min_samples_leaf': 2, 'min_samples_split': 3, 'n_estimators': 50}\n"
     ]
    }
   ],
   "source": [
    "# hyperparameter_tuning \n",
    "\n",
    "from sklearn.model_selection import GridSearchCV\n",
    "\n",
    "param_grid = {'n_estimators':[50,70,120,150,200],\n",
    "             'min_samples_split':[3,4,5,6,7],\n",
    "             'min_samples_leaf':[2,3,4,5,6,7]}\n",
    "\n",
    "from sklearn.metrics import roc_auc_score\n",
    "\n",
    "GSCV = GridSearchCV(estimator=RD,param_grid=param_grid,scoring=roc_auc_score,n_jobs=-1)\n",
    "GSCV_model = GSCV.fit(xtrain,ytrain)\n",
    "\n",
    "print(\"best_parametrs:\", GSCV_model.best_params_)"
   ]
  },
  {
   "cell_type": "code",
   "execution_count": 51,
   "id": "96f2a9eb",
   "metadata": {},
   "outputs": [
    {
     "name": "stdout",
     "output_type": "stream",
     "text": [
      "              precision    recall  f1-score   support\n",
      "\n",
      "           0       0.89      0.97      0.93       281\n",
      "           1       0.91      0.72      0.80       122\n",
      "\n",
      "    accuracy                           0.89       403\n",
      "   macro avg       0.90      0.84      0.87       403\n",
      "weighted avg       0.89      0.89      0.89       403\n",
      "\n",
      "              precision    recall  f1-score   support\n",
      "\n",
      "           0       0.84      0.90      0.87       123\n",
      "           1       0.71      0.59      0.65        51\n",
      "\n",
      "    accuracy                           0.81       174\n",
      "   macro avg       0.78      0.75      0.76       174\n",
      "weighted avg       0.80      0.81      0.80       174\n",
      "\n"
     ]
    }
   ],
   "source": [
    "# tuned_model (Random_forest_classifier)\n",
    "\n",
    "from sklearn.ensemble import RandomForestClassifier\n",
    "\n",
    "RD = RandomForestClassifier(min_samples_leaf = 2, min_samples_split= 3, n_estimators = 50)\n",
    "RD_model = RD.fit(xtrain,ytrain)\n",
    "train_pred_4 = RD_model.predict(xtrain)\n",
    "test_pred_4 = RD_model.predict(xtest)\n",
    "\n",
    "print(classification_report(ytrain,train_pred_4))\n",
    "print(classification_report(ytest,test_pred_4))\n"
   ]
  },
  {
   "cell_type": "markdown",
   "id": "a40d4ac7",
   "metadata": {},
   "source": [
    "## Confusion Matrix"
   ]
  },
  {
   "cell_type": "code",
   "execution_count": 52,
   "id": "4fe07cfa",
   "metadata": {},
   "outputs": [],
   "source": [
    "from sklearn.metrics import confusion_matrix\n",
    "\n",
    "cm = confusion_matrix(ytest,test_pred_4)\n",
    "tp = cm[1,1]\n",
    "tn = cm[0,0]\n",
    "fp = cm[0,1]\n",
    "fn = cm[1,0]"
   ]
  },
  {
   "cell_type": "code",
   "execution_count": 53,
   "id": "4cdda0db",
   "metadata": {},
   "outputs": [
    {
     "data": {
      "text/plain": [
       "<Axes: >"
      ]
     },
     "execution_count": 53,
     "metadata": {},
     "output_type": "execute_result"
    },
    {
     "data": {
      "image/png": "[encoded data removed]",
      "text/plain": [
       "<Figure size 640x480 with 2 Axes>"
      ]
     },
     "metadata": {},
     "output_type": "display_data"
    }
   ],
   "source": [
    "sns.heatmap(cm,annot=True)"
   ]
  },
  {
   "cell_type": "code",
   "execution_count": 54,
   "id": "08249f6f",
   "metadata": {},
   "outputs": [
    {
     "data": {
      "text/plain": [
       "array([[0.95365281, 0.04634719],\n",
       "       [0.86619517, 0.13380483],\n",
       "       [0.23881101, 0.76118899],\n",
       "       [0.96018041, 0.03981959],\n",
       "       [0.99879638, 0.00120362],\n",
       "       [0.84239557, 0.15760443],\n",
       "       [0.93812121, 0.06187879],\n",
       "       [0.97853299, 0.02146701],\n",
       "       [0.78894194, 0.21105806],\n",
       "       [0.97608466, 0.02391534],\n",
       "       [0.91870851, 0.08129149],\n",
       "       [0.68839102, 0.31160898],\n",
       "       [0.99112169, 0.00887831],\n",
       "       [0.30639203, 0.69360797],\n",
       "       [0.48547018, 0.51452982],\n",
       "       [0.35686506, 0.64313494],\n",
       "       [0.23881101, 0.76118899],\n",
       "       [0.4647625 , 0.5352375 ],\n",
       "       [0.99112169, 0.00887831],\n",
       "       [0.08237509, 0.91762491],\n",
       "       [0.65996825, 0.34003175],\n",
       "       [0.93955625, 0.06044375],\n",
       "       [0.1122939 , 0.8877061 ],\n",
       "       [0.97195212, 0.02804788],\n",
       "       [0.07743623, 0.92256377],\n",
       "       [0.32388653, 0.67611347],\n",
       "       [0.96167877, 0.03832123],\n",
       "       [0.75111524, 0.24888476],\n",
       "       [0.00545455, 0.99454545],\n",
       "       [0.96423032, 0.03576968],\n",
       "       [0.30639203, 0.69360797],\n",
       "       [0.93955625, 0.06044375],\n",
       "       [0.88089148, 0.11910852],\n",
       "       [0.39553173, 0.60446827],\n",
       "       [0.67471   , 0.32529   ],\n",
       "       [0.94086238, 0.05913762],\n",
       "       [0.21577205, 0.78422795],\n",
       "       [0.93955625, 0.06044375],\n",
       "       [0.7268254 , 0.2731746 ],\n",
       "       [0.8074127 , 0.1925873 ],\n",
       "       [0.26293644, 0.73706356],\n",
       "       [0.9445081 , 0.0554919 ],\n",
       "       [0.82305748, 0.17694252],\n",
       "       [0.86884656, 0.13115344],\n",
       "       [0.81779908, 0.18220092],\n",
       "       [0.86884656, 0.13115344],\n",
       "       [0.71973436, 0.28026564],\n",
       "       [0.37596917, 0.62403083],\n",
       "       [0.64319989, 0.35680011],\n",
       "       [0.29244415, 0.70755585],\n",
       "       [0.81764128, 0.18235872],\n",
       "       [0.40910978, 0.59089022],\n",
       "       [0.95171883, 0.04828117],\n",
       "       [0.64504762, 0.35495238],\n",
       "       [0.6352102 , 0.3647898 ],\n",
       "       [0.9445081 , 0.0554919 ],\n",
       "       [0.78217367, 0.21782633],\n",
       "       [0.28042529, 0.71957471],\n",
       "       [0.15946633, 0.84053367],\n",
       "       [0.61902241, 0.38097759],\n",
       "       [0.10076956, 0.89923044],\n",
       "       [0.51400792, 0.48599208],\n",
       "       [0.75101336, 0.24898664],\n",
       "       [0.82907937, 0.17092063],\n",
       "       [0.94006505, 0.05993495],\n",
       "       [0.99112169, 0.00887831],\n",
       "       [0.96341543, 0.03658457],\n",
       "       [0.93774392, 0.06225608],\n",
       "       [0.20637783, 0.79362217],\n",
       "       [0.83619322, 0.16380678],\n",
       "       [0.03693635, 0.96306365],\n",
       "       [0.80874392, 0.19125608],\n",
       "       [0.91488248, 0.08511752],\n",
       "       [0.91617557, 0.08382443],\n",
       "       [0.96125887, 0.03874113],\n",
       "       [0.99112169, 0.00887831],\n",
       "       [0.89835076, 0.10164924],\n",
       "       [0.93955625, 0.06044375],\n",
       "       [0.9618123 , 0.0381877 ],\n",
       "       [0.9445081 , 0.0554919 ],\n",
       "       [0.48547018, 0.51452982],\n",
       "       [0.82017546, 0.17982454],\n",
       "       [0.53488316, 0.46511684],\n",
       "       [0.81256607, 0.18743393],\n",
       "       [0.58521649, 0.41478351],\n",
       "       [0.92129011, 0.07870989],\n",
       "       [0.68180507, 0.31819493],\n",
       "       [0.67237666, 0.32762334],\n",
       "       [0.76138745, 0.23861255],\n",
       "       [0.67283258, 0.32716742],\n",
       "       [0.4630592 , 0.5369408 ],\n",
       "       [0.66347619, 0.33652381],\n",
       "       [0.62935287, 0.37064713],\n",
       "       [0.95475132, 0.04524868],\n",
       "       [0.03688914, 0.96311086],\n",
       "       [0.93774392, 0.06225608],\n",
       "       [0.47022306, 0.52977694],\n",
       "       [0.97853299, 0.02146701],\n",
       "       [0.99112169, 0.00887831],\n",
       "       [0.71737666, 0.28262334],\n",
       "       [0.93873171, 0.06126829],\n",
       "       [0.26293644, 0.73706356],\n",
       "       [0.9445081 , 0.0554919 ],\n",
       "       [0.97975132, 0.02024868],\n",
       "       [0.45392989, 0.54607011],\n",
       "       [0.73042337, 0.26957663],\n",
       "       [0.4118466 , 0.5881534 ],\n",
       "       [0.05276956, 0.94723044],\n",
       "       [0.72364706, 0.27635294],\n",
       "       [0.85552655, 0.14447345],\n",
       "       [0.68964706, 0.31035294],\n",
       "       [0.93955625, 0.06044375],\n",
       "       [0.82017546, 0.17982454],\n",
       "       [0.20766667, 0.79233333],\n",
       "       [0.64945098, 0.35054902],\n",
       "       [0.95698573, 0.04301427],\n",
       "       [0.92518041, 0.07481959],\n",
       "       [0.17546694, 0.82453306],\n",
       "       [0.97475132, 0.02524868],\n",
       "       [0.36133565, 0.63866435],\n",
       "       [0.99112169, 0.00887831],\n",
       "       [0.10996044, 0.89003956],\n",
       "       [0.4280592 , 0.5719408 ],\n",
       "       [0.95365281, 0.04634719],\n",
       "       [0.82923273, 0.17076727],\n",
       "       [0.88319733, 0.11680267],\n",
       "       [0.64578431, 0.35421569],\n",
       "       [0.82907937, 0.17092063],\n",
       "       [0.64945098, 0.35054902],\n",
       "       [0.86422888, 0.13577112],\n",
       "       [0.90643198, 0.09356802],\n",
       "       [0.85314259, 0.14685741],\n",
       "       [0.93546305, 0.06453695],\n",
       "       [0.32388653, 0.67611347],\n",
       "       [0.95308466, 0.04691534],\n",
       "       [0.725041  , 0.274959  ],\n",
       "       [0.70540488, 0.29459512],\n",
       "       [0.90203434, 0.09796566],\n",
       "       [0.76045238, 0.23954762],\n",
       "       [0.80874392, 0.19125608],\n",
       "       [0.85852381, 0.14147619],\n",
       "       [0.96235076, 0.03764924],\n",
       "       [0.97780375, 0.02219625],\n",
       "       [0.8813839 , 0.1186161 ],\n",
       "       [0.87745892, 0.12254108],\n",
       "       [0.96647059, 0.03352941],\n",
       "       [0.80874392, 0.19125608],\n",
       "       [0.97195212, 0.02804788],\n",
       "       [0.9445081 , 0.0554919 ],\n",
       "       [0.15360919, 0.84639081],\n",
       "       [0.6003801 , 0.3996199 ],\n",
       "       [0.99112169, 0.00887831],\n",
       "       [0.93923898, 0.06076102],\n",
       "       [0.98475132, 0.01524868],\n",
       "       [0.76969834, 0.23030166],\n",
       "       [0.9445081 , 0.0554919 ],\n",
       "       [0.16420992, 0.83579008],\n",
       "       [0.98138462, 0.01861538],\n",
       "       [0.67483554, 0.32516446],\n",
       "       [0.97074026, 0.02925974],\n",
       "       [0.93608466, 0.06391534],\n",
       "       [0.64892345, 0.35107655],\n",
       "       [0.26666048, 0.73333952],\n",
       "       [0.57620261, 0.42379739],\n",
       "       [0.28449347, 0.71550653],\n",
       "       [0.94751374, 0.05248626],\n",
       "       [0.78384034, 0.21615966],\n",
       "       [0.97853299, 0.02146701],\n",
       "       [0.36882631, 0.63117369],\n",
       "       [0.93008617, 0.06991383],\n",
       "       [0.67033171, 0.32966829],\n",
       "       [0.8832561 , 0.1167439 ],\n",
       "       [0.72727776, 0.27272224],\n",
       "       [0.91758943, 0.08241057]])"
      ]
     },
     "execution_count": 54,
     "metadata": {},
     "output_type": "execute_result"
    }
   ],
   "source": [
    "test_pred_proba = RD.predict_proba(xtest)\n",
    "\n",
    "test_pred_proba"
   ]
  },
  {
   "cell_type": "markdown",
   "id": "376e6fb9",
   "metadata": {},
   "source": [
    "## ROC-AUC-CURVE"
   ]
  },
  {
   "cell_type": "code",
   "execution_count": 55,
   "id": "791fa610",
   "metadata": {},
   "outputs": [],
   "source": [
    "from sklearn.metrics import roc_curve"
   ]
  },
  {
   "cell_type": "code",
   "execution_count": 56,
   "id": "23b63990",
   "metadata": {},
   "outputs": [],
   "source": [
    "fpr,tpr,thrs = roc_curve(ytest,test_pred_proba[:,1])"
   ]
  },
  {
   "cell_type": "code",
   "execution_count": 57,
   "id": "c343ca21",
   "metadata": {},
   "outputs": [
    {
     "data": {
      "text/html": [
       "<div>\n",
       "<style scoped>\n",
       "    .dataframe tbody tr th:only-of-type {\n",
       "        vertical-align: middle;\n",
       "    }\n",
       "\n",
       "    .dataframe tbody tr th {\n",
       "        vertical-align: top;\n",
       "    }\n",
       "\n",
       "    .dataframe thead th {\n",
       "        text-align: right;\n",
       "    }\n",
       "</style>\n",
       "<table border=\"1\" class=\"dataframe\">\n",
       "  <thead>\n",
       "    <tr style=\"text-align: right;\">\n",
       "      <th></th>\n",
       "      <th>FPR</th>\n",
       "      <th>TPR</th>\n",
       "      <th>THRESHOLD</th>\n",
       "    </tr>\n",
       "  </thead>\n",
       "  <tbody>\n",
       "    <tr>\n",
       "      <th>0</th>\n",
       "      <td>0.000000</td>\n",
       "      <td>0.000000</td>\n",
       "      <td>1.994545</td>\n",
       "    </tr>\n",
       "    <tr>\n",
       "      <th>1</th>\n",
       "      <td>0.000000</td>\n",
       "      <td>0.019608</td>\n",
       "      <td>0.994545</td>\n",
       "    </tr>\n",
       "    <tr>\n",
       "      <th>2</th>\n",
       "      <td>0.000000</td>\n",
       "      <td>0.117647</td>\n",
       "      <td>0.917625</td>\n",
       "    </tr>\n",
       "    <tr>\n",
       "      <th>3</th>\n",
       "      <td>0.008130</td>\n",
       "      <td>0.117647</td>\n",
       "      <td>0.899230</td>\n",
       "    </tr>\n",
       "    <tr>\n",
       "      <th>4</th>\n",
       "      <td>0.008130</td>\n",
       "      <td>0.215686</td>\n",
       "      <td>0.835790</td>\n",
       "    </tr>\n",
       "    <tr>\n",
       "      <th>...</th>\n",
       "      <td>...</td>\n",
       "      <td>...</td>\n",
       "      <td>...</td>\n",
       "    </tr>\n",
       "    <tr>\n",
       "      <th>62</th>\n",
       "      <td>0.886179</td>\n",
       "      <td>1.000000</td>\n",
       "      <td>0.022196</td>\n",
       "    </tr>\n",
       "    <tr>\n",
       "      <th>63</th>\n",
       "      <td>0.910569</td>\n",
       "      <td>1.000000</td>\n",
       "      <td>0.021467</td>\n",
       "    </tr>\n",
       "    <tr>\n",
       "      <th>64</th>\n",
       "      <td>0.934959</td>\n",
       "      <td>1.000000</td>\n",
       "      <td>0.015249</td>\n",
       "    </tr>\n",
       "    <tr>\n",
       "      <th>65</th>\n",
       "      <td>0.991870</td>\n",
       "      <td>1.000000</td>\n",
       "      <td>0.008878</td>\n",
       "    </tr>\n",
       "    <tr>\n",
       "      <th>66</th>\n",
       "      <td>1.000000</td>\n",
       "      <td>1.000000</td>\n",
       "      <td>0.001204</td>\n",
       "    </tr>\n",
       "  </tbody>\n",
       "</table>\n",
       "<p>67 rows × 3 columns</p>\n",
       "</div>"
      ],
      "text/plain": [
       "         FPR       TPR  THRESHOLD\n",
       "0   0.000000  0.000000   1.994545\n",
       "1   0.000000  0.019608   0.994545\n",
       "2   0.000000  0.117647   0.917625\n",
       "3   0.008130  0.117647   0.899230\n",
       "4   0.008130  0.215686   0.835790\n",
       "..       ...       ...        ...\n",
       "62  0.886179  1.000000   0.022196\n",
       "63  0.910569  1.000000   0.021467\n",
       "64  0.934959  1.000000   0.015249\n",
       "65  0.991870  1.000000   0.008878\n",
       "66  1.000000  1.000000   0.001204\n",
       "\n",
       "[67 rows x 3 columns]"
      ]
     },
     "execution_count": 57,
     "metadata": {},
     "output_type": "execute_result"
    }
   ],
   "source": [
    "df2 = pd.DataFrame({'FPR':fpr,'TPR':tpr,'THRESHOLD':thrs})\n",
    "df2"
   ]
  },
  {
   "cell_type": "code",
   "execution_count": 58,
   "id": "6dd030fe",
   "metadata": {},
   "outputs": [
    {
     "data": {
      "text/plain": [
       "Text(0.5, 1.0, 'ROC-AUC-CURVE')"
      ]
     },
     "execution_count": 58,
     "metadata": {},
     "output_type": "execute_result"
    },
    {
     "data": {
      "image/png": "[encoded data removed]",
      "text/plain": [
       "<Figure size 640x480 with 1 Axes>"
      ]
     },
     "metadata": {},
     "output_type": "display_data"
    }
   ],
   "source": [
    "plt.plot(fpr,tpr)\n",
    "plt.plot([[0,0],[1,1]],color='red')\n",
    "plt.xlabel('FPR')\n",
    "plt.ylabel('TPR')\n",
    "plt.title('ROC-AUC-CURVE')"
   ]
  },
  {
   "cell_type": "markdown",
   "id": "36ba0082",
   "metadata": {},
   "source": [
    "## interpretation"
   ]
  },
  {
   "cell_type": "markdown",
   "id": "2c8146b4",
   "metadata": {},
   "source": [
    "- Logistic Regression: Trains and evaluates a logistic regression model.\n",
    "- Decision Tree Classifier: Trains and evaluates a decision tree model.\n",
    "- Random Forest Classifier: Trains and evaluates a random forest model.\n",
    "- GridSearchCV: Performs hyperparameter tuning for the random forest model.\n",
    "- Tuned Random Forest Classifier: Trains and evaluates the random forest model with the best parameters found by GridSearchCV.\n",
    "- Confusion Matrix: Plots the confusion matrix for the tuned random forest model."
   ]
  },
  {
   "cell_type": "code",
   "execution_count": null,
   "id": "3d796633",
   "metadata": {},
   "outputs": [],
   "source": []
  }
 ],
 "metadata": {
  "kernelspec": {
   "display_name": "Python 3 (ipykernel)",
   "language": "python",
   "name": "python3"
  },
  "language_info": {
   "codemirror_mode": {
    "name": "ipython",
    "version": 3
   },
   "file_extension": ".py",
   "mimetype": "text/x-python",
   "name": "python",
   "nbconvert_exporter": "python",
   "pygments_lexer": "ipython3",
   "version": "3.11.5"
  }
 },
 "nbformat": 4,
 "nbformat_minor": 5
}
